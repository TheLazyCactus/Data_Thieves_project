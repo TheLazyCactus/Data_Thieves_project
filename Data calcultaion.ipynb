{
 "cells": [
  {
   "cell_type": "code",
   "execution_count": null,
   "metadata": {},
   "outputs": [],
   "source": [
    "import pandas as pd\n",
    "#Call all csv file\n",
    "#Create dict of name of place/location\n",
    "#Transform dict to name/coordinate\n",
    "#funtion to calculate distance between 2 coordinate"
   ]
  },
  {
   "cell_type": "markdown",
   "metadata": {},
   "source": [
    "Call CSV file"
   ]
  },
  {
   "cell_type": "markdown",
   "metadata": {},
   "source": [
    "Dict creation of place/location"
   ]
  },
  {
   "cell_type": "markdown",
   "metadata": {},
   "source": [
    "Transform place/coordinate"
   ]
  },
  {
   "cell_type": "code",
   "execution_count": null,
   "metadata": {},
   "outputs": [],
   "source": [
    "from geopy.geocoders import Nominatim\n",
    "\n",
    "def address_to_coordinates(address):\n",
    "    \"\"\"\n",
    "    Transforms a given address into geographic coordinates (latitude and longitude).\n",
    "    \n",
    "    Args:\n",
    "        address (str): The address to be geocoded.\n",
    "        \n",
    "    Returns:\n",
    "        tuple: A tuple containing latitude and longitude as floats.\n",
    "               Returns None if the address cannot be geocoded.\n",
    "    \"\"\"\n",
    "    try:\n",
    "        # Initialize geolocator\n",
    "        geolocator = Nominatim(user_agent=\"address_to_coordinates_app\")\n",
    "        # Geocode the address\n",
    "        location = geolocator.geocode(address)\n",
    "        if location:\n",
    "            return location.latitude, location.longitude\n",
    "        else:\n",
    "            print(\"Address not found.\")\n",
    "            return None\n",
    "    except Exception as e:\n",
    "        print(f\"An error occurred: {e}\")\n",
    "        return None\n",
    "\n"
   ]
  },
  {
   "cell_type": "markdown",
   "metadata": {},
   "source": [
    "Create function to calcuate distance between 2 coordinates"
   ]
  }
 ],
 "metadata": {
  "kernelspec": {
   "display_name": "base",
   "language": "python",
   "name": "python3"
  },
  "language_info": {
   "name": "python",
   "version": "3.12.4"
  }
 },
 "nbformat": 4,
 "nbformat_minor": 2
}
