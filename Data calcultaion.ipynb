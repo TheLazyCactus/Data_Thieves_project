{
 "cells": [
  {
   "cell_type": "markdown",
   "metadata": {},
   "source": [
    "Call CSV file"
   ]
  },
  {
   "cell_type": "code",
   "execution_count": null,
   "metadata": {},
   "outputs": [],
   "source": [
    "import pandas as pd\n",
    "import numpy as np\n",
    "url1 = ''\n",
    "url2 = ''\n",
    "url3 = ''\n",
    "url4 = ''\n",
    "cat_data = pd.read_csv(url1, sep=\";\", low_memory =False)\n",
    "dog_data = pd.read_csv(url2, sep=\";\", low_memory =False)\n",
    "retirement_data = pd.read_csv(url3, sep=\";\", low_memory =False)\n",
    "school_data = pd.read_csv(url4, sep=\";\", low_memory =False)"
   ]
  },
  {
   "cell_type": "markdown",
   "metadata": {},
   "source": [
    "Dict creation of place/location"
   ]
  },
  {
   "cell_type": "markdown",
   "metadata": {},
   "source": [
    "Transform dict for place/coordinate"
   ]
  },
  {
   "cell_type": "code",
   "execution_count": null,
   "metadata": {},
   "outputs": [],
   "source": [
    "from geopy.geocoders import Nominatim\n",
    "\n",
    "def address_to_coordinates(address):\n",
    "    \"\"\"\n",
    "    Transforms a given address into geographic coordinates (latitude and longitude).\n",
    "    \n",
    "    Args:\n",
    "        address (str): The address to be geocoded.\n",
    "        \n",
    "    Returns:\n",
    "        tuple: A tuple containing latitude and longitude as floats.\n",
    "               Returns None if the address cannot be geocoded.\n",
    "    \"\"\"\n",
    "    try:\n",
    "        # Initialize geolocator\n",
    "        geolocator = Nominatim(user_agent=\"address_to_coordinates_app\")\n",
    "        # Geocode the address\n",
    "        location = geolocator.geocode(address)\n",
    "        if location:\n",
    "            return location.latitude, location.longitude\n",
    "        else:\n",
    "            print(\"Address not found.\")\n",
    "            return None\n",
    "    except Exception as e:\n",
    "        print(f\"An error occurred: {e}\")\n",
    "        return None\n",
    "\n",
    "\n",
    "#Out put dict1 and dict2"
   ]
  },
  {
   "cell_type": "markdown",
   "metadata": {},
   "source": [
    "Create function to calcuate distance between 2 coordinates"
   ]
  },
  {
   "cell_type": "code",
   "execution_count": null,
   "metadata": {},
   "outputs": [],
   "source": [
    "from geopy.distance import geodesic\n",
    "def calculate_distance(coord1, coord2):\n",
    "    try:\n",
    "        return geodesic(coord1, coord2).kilometers\n",
    "    except:\n",
    "        return None\n",
    "    \n",
    "\n",
    "# Calculate distances from Address 1\n",
    "df2['Distance (km)'] = df2['Coordinates'].apply(lambda x: calculate_distance(address1_coords, x))\n",
    "\n",
    "# Filter addresses within 50 km\n",
    "filtered_df = df2[df2['Distance (km)'] <= 50]"
   ]
  }
 ],
 "metadata": {
  "kernelspec": {
   "display_name": "base",
   "language": "python",
   "name": "python3"
  },
  "language_info": {
   "name": "python",
   "version": "3.12.4"
  }
 },
 "nbformat": 4,
 "nbformat_minor": 2
}
