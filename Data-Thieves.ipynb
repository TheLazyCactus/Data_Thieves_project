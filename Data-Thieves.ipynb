{
 "cells": [
  {
   "cell_type": "markdown",
   "metadata": {},
   "source": []
  },
  {
   "cell_type": "code",
   "execution_count": 2,
   "metadata": {},
   "outputs": [
    {
     "data": {
      "text/plain": [
       "'https://github.com/GoncaloJardim/ironhack-v4-data-lessons/blob/main/02_data_wrangling_and_retrieval/quest/data-thieves.md'"
      ]
     },
     "execution_count": 2,
     "metadata": {},
     "output_type": "execute_result"
    }
   ],
   "source": [
    "'https://github.com/GoncaloJardim/ironhack-v4-data-lessons/blob/main/02_data_wrangling_and_retrieval/quest/data-thieves.md'"
   ]
  },
  {
   "cell_type": "markdown",
   "metadata": {},
   "source": [
    "**Deliverables**\n",
    "\n",
    "You are required to turn in the following:\n",
    "\n",
    "    GitHub Repository with scripts and notebooks used, README and a requirements.txt file.\n",
    "    README file should have a description of your project and how does the pipeline work.\n",
    "    Requirements file should have all the packages used for someone to run your scripts/notebooks. Always consider that when someone uses your code, they'll do it in a new environment, where the only packages that should be installed are the ones your project requires to be ran. Ideally it should also be specified the package version (ex: scipy==1.4.1)\n",
    "    Links to any external data you used (should also be on the README file) .\n",
    "    Slides for your presentation.\n"
   ]
  },
  {
   "cell_type": "markdown",
   "metadata": {},
   "source": [
    "**README File structure**\n",
    "\n",
    "The README will be your paper and exists to act as a guide of your project. From describing the idea to having a walk-through on how to use your scripts, the README is the welcome file for any user that encounters your project.\n",
    "\n",
    "The structure should be:\n",
    "\n",
    "    Title of the project\n",
    "    Introduction to your project.\n",
    "    Explanation of how your pipeline works (API's + web-scraping depending on each case).\n",
    "    Links to sources of external data you used to enrich your project (if aplicable).\n",
    "    Conclusions after your analysis/ product/ feature(s) development.\n",
    "    Further questions.\n",
    "\n",
    "**Presentation**\n",
    "\n",
    "You will have 10 minutes to present your project. The below are some ideas for slides you could include in your presentation; those marked with an (M) are mandatory!\n",
    "\n",
    "    (M) Title of the project\n",
    "    (M) Business idea.\n",
    "    (M) Technical developments.\n",
    "    Main challenges & strengths.\n",
    "    Product / Feature showcasing.\n",
    "    Main insights.\n",
    "    Questions you couldn't answer.\n",
    "    Something funny that happened during the project.\n",
    "    Things you learned during this project.\n",
    "    If you could start from scratch, what would you do differently?\n"
   ]
  },
  {
   "cell_type": "code",
   "execution_count": null,
   "metadata": {},
   "outputs": [],
   "source": [
    "#!pip install python-dotenv\n",
    "import pandas as pd\n"
   ]
  },
  {
   "cell_type": "code",
   "execution_count": null,
   "metadata": {},
   "outputs": [],
   "source": [
    "import os\n",
    "from dotenv import load_dotenv, find_dotenv\n",
    "\n",
    "load_dotenv()\n",
    "\n",
    "my_key = os.getenv(\"API_KEY\")\n"
   ]
  }
 ],
 "metadata": {
  "kernelspec": {
   "display_name": "base",
   "language": "python",
   "name": "python3"
  },
  "language_info": {
   "codemirror_mode": {
    "name": "ipython",
    "version": 3
   },
   "file_extension": ".py",
   "mimetype": "text/x-python",
   "name": "python",
   "nbconvert_exporter": "python",
   "pygments_lexer": "ipython3",
   "version": "3.12.4"
  }
 },
 "nbformat": 4,
 "nbformat_minor": 2
}
